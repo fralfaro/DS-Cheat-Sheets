{
 "cells": [
  {
   "cell_type": "markdown",
   "metadata": {},
   "source": [
    "<div style=\"display: flex; align-items: center;\">\n",
    "    <a href=\"https://colab.research.google.com/github/fralfaro/DS-Cheat-Sheets/blob/main/docs/examples/dplyr/dplyr.ipynb\" target=\"_parent\">\n",
    "        <img src=\"https://colab.research.google.com/assets/colab-badge.svg\" alt=\"Open In Colab\"/>\n",
    "    </a>\n",
    "</div>"
   ]
  },
  {
   "cell_type": "markdown",
   "metadata": {},
   "source": [
    "# Dplyr\n",
    "\n",
    "<img src=\"https://rstudio.github.io/cheatsheets/html/images/logo-dplyr.png\" alt=\"numpy logo\" width = \"200\">\n",
    "\n",
    "\n",
    "[dplyr](https://dplyr.tidyverse.org/) functions work with pipes and expect **tidy data**. In tidy data:\n",
    "\n",
    "*   Each **variable** is in its own **column**\n",
    "*   Each **observation**, or **case**, is in its own **row**\n",
    "*   **pipes** `x |> f(y)` becomes `f(x,y)`"
   ]
  },
  {
   "cell_type": "code",
   "execution_count": null,
   "metadata": {
    "vscode": {
     "languageId": "r"
    }
   },
   "outputs": [],
   "source": [
    "library(dplyr)"
   ]
  },
  {
   "cell_type": "markdown",
   "metadata": {},
   "source": [
    "Summarize Cases\n",
    "-----------------------------------\n",
    "\n",
    "Apply **summary** functions to columns to create a new table of summary statistics. Summary functions take vectors as input and return one value back (see Summary Functions).\n",
    "\n",
    "*   `summarize(.data, ...)`: Compute table of summaries.\n",
    "    "
   ]
  },
  {
   "cell_type": "code",
   "execution_count": null,
   "metadata": {
    "vscode": {
     "languageId": "r"
    }
   },
   "outputs": [],
   "source": [
    "mtcars |> summarize(avg = mean(mpg))  "
   ]
  },
  {
   "cell_type": "markdown",
   "metadata": {},
   "source": [
    "*   `count(.data, ..., wt = NULL, sort = FLASE, name = NULL)`: Count number of rows in each group defined by the variables in `...`. Also `tally()`, `add_count()`, and `add_tally()`.\n",
    "    "
   ]
  },
  {
   "cell_type": "code",
   "execution_count": null,
   "metadata": {
    "vscode": {
     "languageId": "r"
    }
   },
   "outputs": [],
   "source": [
    "mtcars |> count(cyl)  "
   ]
  },
  {
   "cell_type": "markdown",
   "metadata": {},
   "source": [
    "Group Cases\n",
    "---------------------------\n",
    "\n",
    "*   Use `group_by(.data, ..., .add = FALSE, .drop = TRUE)` to created a “grouped” copy of a table grouped by columns in `...`. dplyr functions will manipulate each “group” separately and combine the results.\n",
    "    "
   ]
  },
  {
   "cell_type": "markdown",
   "metadata": {},
   "source": [
    "mtcars |>\n",
    "  group_by(cyl) |>\n",
    "  summarize(avg = mean(mpg))"
   ]
  },
  {
   "cell_type": "markdown",
   "metadata": {},
   "source": [
    "*   Use `rowwise(.data, ...)` to group data into individual rows. dplyr functions will compute results for each row. Also apply functions to list-columns. See tidyr cheatsheet for list-column workflow."
   ]
  },
  {
   "cell_type": "markdown",
   "metadata": {},
   "source": [
    "starwars |>\n",
    "  rowwise() |>\n",
    "  mutate(film_count = length(films))"
   ]
  },
  {
   "cell_type": "markdown",
   "metadata": {},
   "source": [
    "*   `ungroup(x, ...)`: Returns ungrouped copy of table."
   ]
  },
  {
   "cell_type": "markdown",
   "metadata": {},
   "source": [
    "Manipulate Cases\n",
    "-------------------------------------\n",
    "\n",
    "### Extract Cases\n",
    "\n",
    "Row functions return a subset of rows as a new table.\n",
    "\n",
    "*   `filter(.data, ..., .preserve = FALSE)`: Extract rows that meet logical criteria."
   ]
  },
  {
   "cell_type": "code",
   "execution_count": null,
   "metadata": {
    "vscode": {
     "languageId": "r"
    }
   },
   "outputs": [],
   "source": [
    "mtcars |> filter(mpg > 20)"
   ]
  },
  {
   "cell_type": "markdown",
   "metadata": {},
   "source": [
    "*   `distinct(.data, ..., .keep_all = FALSE)`: Remove rows with duplicate values."
   ]
  },
  {
   "cell_type": "code",
   "execution_count": null,
   "metadata": {
    "vscode": {
     "languageId": "r"
    }
   },
   "outputs": [],
   "source": [
    "mtcars |> distinct(gear)"
   ]
  },
  {
   "cell_type": "markdown",
   "metadata": {},
   "source": [
    "*   `slice(.data, ...,, .preserve = FALSE)`: Select rows by position."
   ]
  },
  {
   "cell_type": "code",
   "execution_count": null,
   "metadata": {
    "vscode": {
     "languageId": "r"
    }
   },
   "outputs": [],
   "source": [
    "mtcars |> slice(10:15)"
   ]
  },
  {
   "cell_type": "markdown",
   "metadata": {},
   "source": [
    "*   `slice_sample(.data, ..., n, prop, weight_by = NULL, replace = FALSE)`: Randomly select rows. Use `n` to select a number of rows and `prop` to select a fraction of rows."
   ]
  },
  {
   "cell_type": "code",
   "execution_count": null,
   "metadata": {
    "vscode": {
     "languageId": "r"
    }
   },
   "outputs": [],
   "source": [
    "mtcars |> slice_sample(n = 5, replace = TRUE)"
   ]
  },
  {
   "cell_type": "markdown",
   "metadata": {},
   "source": [
    "*   `slice_min(.data, order_by, ..., n, prop, with_ties = TRUE)` and `slice_max()`: Select rows with the lowest and highest values."
   ]
  },
  {
   "cell_type": "code",
   "execution_count": null,
   "metadata": {
    "vscode": {
     "languageId": "r"
    }
   },
   "outputs": [],
   "source": [
    "mtcars |> slice_min(mpg, prop = 0.25)"
   ]
  },
  {
   "cell_type": "markdown",
   "metadata": {},
   "source": [
    "*   `slice_head(.data, ..., n, prop)` and `slice_tail()`: Select the first or last rows."
   ]
  },
  {
   "cell_type": "code",
   "execution_count": null,
   "metadata": {
    "vscode": {
     "languageId": "r"
    }
   },
   "outputs": [],
   "source": [
    "mtcars |> slice_head(n = 5)    "
   ]
  },
  {
   "cell_type": "markdown",
   "metadata": {},
   "source": [
    "#### Logical and boolean operations to use with `filter()`\n",
    "\n",
    "*   `==`\n",
    "*   `<`\n",
    "*   `<=`\n",
    "*   `is.na()`\n",
    "*   `%in%`\n",
    "*   `|`\n",
    "*   `xor()`\n",
    "*   `!=`\n",
    "*   `>`\n",
    "*   `>=`\n",
    "*   `!is.na()`\n",
    "*   `!`\n",
    "*   `&`\n",
    "*   See `?base::Logic` and `?Comparison` for help.\n",
    "\n",
    "### Arrange cases\n",
    "\n",
    "*   `arrange(.data, ..., .by_group = FALSE)`: Order rows by values of a column or columns (low to high), use with `desc()` to order from high to low.\n",
    "    "
   ]
  },
  {
   "cell_type": "code",
   "execution_count": null,
   "metadata": {
    "vscode": {
     "languageId": "r"
    }
   },
   "outputs": [],
   "source": [
    "mtcars |> arrange(mpg)\n",
    "mtcars |> arrange(desc(mpg))"
   ]
  },
  {
   "cell_type": "markdown",
   "metadata": {},
   "source": [
    "### Add Cases\n",
    "\n",
    "*   `add_row(.data, ..., .before = NULL, .after = NULL)`: Add one or more rows to a table.\n",
    "    "
   ]
  },
  {
   "cell_type": "code",
   "execution_count": null,
   "metadata": {
    "vscode": {
     "languageId": "r"
    }
   },
   "outputs": [],
   "source": [
    "cars |> add_row(speed = 1, dist = 1)"
   ]
  },
  {
   "cell_type": "markdown",
   "metadata": {},
   "source": [
    "Manipulate Variables\n",
    "---------------------------------------------\n",
    "\n",
    "### Extract Variables\n",
    "\n",
    "Column functions return a set of columns as a new vector or table.\n",
    "\n",
    "*   `pull(.data, var = -1, name = NULL, ...)`: Extract column values as a vector, by name or index.\n",
    "    "
   ]
  },
  {
   "cell_type": "code",
   "execution_count": null,
   "metadata": {
    "vscode": {
     "languageId": "r"
    }
   },
   "outputs": [],
   "source": [
    "mtcars |> pull(wt)"
   ]
  },
  {
   "cell_type": "markdown",
   "metadata": {},
   "source": [
    "*   `select(.data, ...)`: Extract columns as a table."
   ]
  },
  {
   "cell_type": "code",
   "execution_count": null,
   "metadata": {
    "vscode": {
     "languageId": "r"
    }
   },
   "outputs": [],
   "source": [
    "mtcars |> select(mpg, wt)"
   ]
  },
  {
   "cell_type": "markdown",
   "metadata": {},
   "source": [
    "*   `relocate(.data, ..., .before = NULL, .after = NULL)`: Move columns to new position."
   ]
  },
  {
   "cell_type": "code",
   "execution_count": null,
   "metadata": {
    "vscode": {
     "languageId": "r"
    }
   },
   "outputs": [],
   "source": [
    "mtcars |> relocate(mpg, cyl, after = last_col())"
   ]
  },
  {
   "cell_type": "markdown",
   "metadata": {},
   "source": [
    "#### Use these helpers with `select()` and `across()`"
   ]
  },
  {
   "cell_type": "code",
   "execution_count": null,
   "metadata": {
    "vscode": {
     "languageId": "r"
    }
   },
   "outputs": [],
   "source": [
    "mtcars |> select(mpg:cyl)"
   ]
  },
  {
   "cell_type": "markdown",
   "metadata": {},
   "source": [
    "*   `contains(match)`\n",
    "*   `num_range(prefix, range)`\n",
    "*   `:`, e.g., `mpg:cyl`\n",
    "*   `ends_with(match)`\n",
    "*   `all_of(x)` or `any_of(x, ..., vars)`\n",
    "*   `!`, e.g., `!gear`\n",
    "*   `starts_with(match)`\n",
    "*   `matches(match)`\n",
    "*   `everything()`\n",
    "\n",
    "### Manipulate Multiple Variables at Once"
   ]
  },
  {
   "cell_type": "code",
   "execution_count": null,
   "metadata": {
    "vscode": {
     "languageId": "r"
    }
   },
   "outputs": [],
   "source": [
    "df <- tibble(x_1 = c(1, 2), x_2 = c(3, 4), y = c(4, 5))"
   ]
  },
  {
   "cell_type": "markdown",
   "metadata": {},
   "source": [
    "*   `across(.cols, .fun, ..., .name = NULL)`: summarize or mutate multiple columns in the same way."
   ]
  },
  {
   "cell_type": "code",
   "execution_count": null,
   "metadata": {
    "vscode": {
     "languageId": "r"
    }
   },
   "outputs": [],
   "source": [
    "df |> summarize(across(everything(), mean))"
   ]
  },
  {
   "cell_type": "markdown",
   "metadata": {},
   "source": [
    "*   `c_across(.cols)`: Compute across columns in row-wise data."
   ]
  },
  {
   "cell_type": "code",
   "execution_count": null,
   "metadata": {
    "vscode": {
     "languageId": "r"
    }
   },
   "outputs": [],
   "source": [
    "df |> \n",
    "    rowwise() |>\n",
    "    mutate(x_total = sum(c_across(1:2)))"
   ]
  },
  {
   "cell_type": "markdown",
   "metadata": {},
   "source": [
    "### Make New Variables\n",
    "\n",
    "Apply **vectorized functions** to columns. Vectorized functions take vectors as input and return vectors of the same length as output (see Vectorized Functions).\n",
    "\n",
    "*   `mutate(.data, ..., .keep = \"all\", .before = NULL, .after = NULL)`: Compute new column(s). Also `add_column()`."
   ]
  },
  {
   "cell_type": "code",
   "execution_count": null,
   "metadata": {
    "vscode": {
     "languageId": "r"
    }
   },
   "outputs": [],
   "source": [
    "mtcars |> mutate(gpm = 1 / mpg)\n",
    "mtcars |> mutate(mtcars, gpm = 1 / mpg, .keep = \"none\")"
   ]
  },
  {
   "cell_type": "markdown",
   "metadata": {},
   "source": [
    "*   `rename(.data, ...)`: Rename columns. Use `rename_with()` to rename with a function."
   ]
  },
  {
   "cell_type": "code",
   "execution_count": null,
   "metadata": {
    "vscode": {
     "languageId": "r"
    }
   },
   "outputs": [],
   "source": [
    "mtcars |> rename(miles_per_gallon = mpg)"
   ]
  },
  {
   "cell_type": "markdown",
   "metadata": {},
   "source": [
    "Vectorized Functions\n",
    "---------------------------------------------\n",
    "\n",
    "### To Use with `mutate()`\n",
    "\n",
    "`mutate()` applies vectorized functions to columns to create new columns. Vectorized functions take vectors as input and return vectors of the same length as output.\n",
    "\n",
    "### Offset\n",
    "\n",
    "*   `dplyr::lag()`: offset elements by 1\n",
    "*   `dplyr::lead()`: offset elements by -1\n",
    "\n",
    "### Cumulative Aggregate\n",
    "\n",
    "*   `dplyr::cumall()`: cumulative `all()`\n",
    "*   `dply::cumany()`: cumulative `any()`\n",
    "*   `cummax()`: cumulative `max()`\n",
    "*   `dplyr::cummean()`: cumulative `mean()`\n",
    "*   `cummin()`: cumulative `min()`\n",
    "*   `cumprod()`: cumulative `prod()`\n",
    "*   `cumsum()`: cumulative `sum()`\n",
    "\n",
    "### Ranking\n",
    "\n",
    "*   `dplyr::cume_dist()`: proportion of all values <=\n",
    "*   `dplyr::dense_rank()`: rank with ties = min, no gaps\n",
    "*   `dplyr::min_rank()`: rank with ties = min\n",
    "*   `dplyr::ntile()`: bins into n bins\n",
    "*   `dplyr::percent_rank()`: `min_rank()` scaled to \\[0,1\\]\n",
    "*   `dplyr::row_number()`: rank with ties = “first”\n",
    "\n",
    "### Math\n",
    "\n",
    "*   `+`, `-`, `/`, `^`, `%/%`, `%%`: arithmetic ops\n",
    "*   `log()`, `log2()`, `log10()`: logs\n",
    "*   `<`, `<=`, `>`, `>=`, `!=`, `==`: logical comparisons\n",
    "*   `dplyr::between()`: x >= left & x <= right\n",
    "*   `dplyr::near()`: safe `==` for floating point numbers\n",
    "\n",
    "### Miscellaneous\n",
    "\n",
    "*   `dplyr::case_when()`: multi-case `if_else()`\n",
    "    \n",
    "        starwars |>\n",
    "          mutate(type = case_when(\n",
    "            height > 200 | mass > 200 ~ \"large\",\n",
    "            species == \"Droid\" ~ \"robot\",\n",
    "            TRUE ~ \"other\"\n",
    "          ))\n",
    "    \n",
    "*   `dplyr::coalesce()`: first non-NA values by element across a set of vectors\n",
    "    \n",
    "*   `dplyr::if_else()`: element-wise if() + else()\n",
    "    \n",
    "*   `dplyr::na_if()`: replace specific values with NA\n",
    "    \n",
    "*   `pmax()`: element-wise max()\n",
    "    \n",
    "*   `pmin()`: element-wise min()\n",
    "    "
   ]
  },
  {
   "cell_type": "markdown",
   "metadata": {},
   "source": [
    "Summary Functions\n",
    "---------------------------------------\n",
    "\n",
    "### To Use with `summarize()`\n",
    "\n",
    "`summarize()` applies summary functions to columns to create a new table. Summary functions take vectors as input and return single values as output.\n",
    "\n",
    "### Count\n",
    "\n",
    "*   `dplyr::n()`: number of values/rows\n",
    "*   `dplyr::n_distinct()`: # of uniques\n",
    "*   `sum(!is.na())`: # of non-NAs\n",
    "\n",
    "### Position\n",
    "\n",
    "*   `mean()`: mean, also `mean(!is.na())`\n",
    "*   `median()`: median\n",
    "\n",
    "### Logical\n",
    "\n",
    "*   `mean()`: proportion of TRUEs\n",
    "*   `sum()`: # of TRUEs\n",
    "\n",
    "### Order\n",
    "\n",
    "*   `dplyr::first()`: first value\n",
    "*   `dplyr::last()`: last value\n",
    "*   `dplyr::nth()`: value in the nth location of vector\n",
    "\n",
    "### Rank\n",
    "\n",
    "*   `quantile()`: nth quantile\n",
    "*   `min()`: minimum value\n",
    "*   `max()`: maximum value\n",
    "\n",
    "### Spread\n",
    "\n",
    "*   `IQR()`: Inter-Quartile Range\n",
    "*   `mad()`: median absolute deviation\n",
    "*   `sd()`: standard deviation\n",
    "*   `var()`: variance"
   ]
  },
  {
   "cell_type": "markdown",
   "metadata": {},
   "source": [
    "Row Names\n",
    "-----------------------\n",
    "\n",
    "Tidy data does not use rownames, which store a variable outside of the columns. To work with the rownames, first move them into a column.\n",
    "\n",
    "*   `tibble::rownames_to_column()`: Move row names into col."
   ]
  },
  {
   "cell_type": "code",
   "execution_count": null,
   "metadata": {
    "vscode": {
     "languageId": "r"
    }
   },
   "outputs": [],
   "source": [
    "a <- rownames_to_column(mtcars, var = \"C\")"
   ]
  },
  {
   "cell_type": "markdown",
   "metadata": {},
   "source": [
    "*   `tibble::columns_to_rownames()`: Move col into row names."
   ]
  },
  {
   "cell_type": "code",
   "execution_count": null,
   "metadata": {
    "vscode": {
     "languageId": "r"
    }
   },
   "outputs": [],
   "source": [
    "column_to_rownames(a, var = \"C\")"
   ]
  },
  {
   "cell_type": "markdown",
   "metadata": {},
   "source": [
    "*   Also `tibble::has_rownames()` and `tibble::remove_rownames()`."
   ]
  },
  {
   "cell_type": "markdown",
   "metadata": {},
   "source": [
    "Combine Tables\n",
    "---------------------------------"
   ]
  },
  {
   "cell_type": "code",
   "execution_count": null,
   "metadata": {
    "vscode": {
     "languageId": "r"
    }
   },
   "outputs": [],
   "source": [
    "x <- tribble(\n",
    "   ~A,  ~B, ~C,\n",
    "  \"a\", \"t\",  1,\n",
    "  \"b\", \"u\",  2,\n",
    "  \"c\", \"v\",  3\n",
    ")\n",
    "    \n",
    "y <- tribble(\n",
    "   ~A,  ~B, ~D,\n",
    "  \"a\", \"t\",  3,\n",
    "  \"b\", \"u\",  2,\n",
    "  \"d\", \"w\",  1\n",
    ")"
   ]
  },
  {
   "cell_type": "markdown",
   "metadata": {},
   "source": [
    "### Combine Variables\n",
    "\n",
    "*   `bind_cols(..., .name_repair)`: Returns tables placed side by side as a single table. Column lengths must be equal. Columns will NOT be matched by id (to do that look at Relational Data below), so be sure to check that both tables are ordered the way you want before binding.\n",
    "\n",
    "### Combine Cases\n",
    "\n",
    "*   `bind_rows(..., .id = NULL)`: Returns tables one on top of the other as a single table. Set `.id` to a column name to add a column of the original table names.\n",
    "\n",
    "### Relational Data\n",
    "\n",
    "Use a **“Mutating Join”** to join one table to columns from another, matching values with the rows that the correspond to. Each join retains a different combination of values from the tables.\n",
    "\n",
    "*   `left_join(x, y, by = NULL, copy = FALSE, suffix = c(\".x\", \".y\"), ..., keep = FALSE, na_matches = \"na\")`: Join matching values from `y` to `x`.\n",
    "*   `right_join(x, y, by = NULL, copy = FALSE, suffix = c(\".x\", \".y\"), ..., keep = FALSE, na_matches = \"na\")`: Join matching values from `x` to `y`.\n",
    "*   `inner_join(x, y, by = NULL, copy = FALSE, suffix = c(\".x\", \".y\"), ..., keep = FALSE, na_matches = \"na\")`: Join data. retain only rows with matches.\n",
    "*   `full_join(x, y, by = NULL, copy = FALSE, suffix = c(\".x\", \".y\"), ..., keep = FALSE, na_matches = \"na\")`: Join data. Retain all values, all rows.\n",
    "\n",
    "Use a **“Filtering Join”** to filter one table against the rows of another.\n",
    "\n",
    "*   `semi_join(x, y, by = NULL, copy = FALSE, ..., na_matches = \"na\")`: Return rows of `x` that have a match in `y`. Use to see what will be included in a join.\n",
    "*   `anti_join(x, y, by = NULL, copy = FALSE, ..., na_matches = \"na\")`: Return rows of `x` that do not have a match in `y`. Use to see what will not be included in a join.\n",
    "\n",
    "Use a **“Nest Join”** to inner join one table to another into a nested data frame.\n",
    "\n",
    "*   `nest_join(x, y, by = NULL, copy = FALSE, keep = FALSE, name = NULL, ...)`: Join data, nesting matches from `y` in a single new data frame column.\n",
    "\n",
    "### Column Matching for Joins\n",
    "\n",
    "*   Use `by = join_by(col1, col2, …)` to specify one or more common columns to match on.\n",
    "    "
   ]
  },
  {
   "cell_type": "code",
   "execution_count": null,
   "metadata": {
    "vscode": {
     "languageId": "r"
    }
   },
   "outputs": [],
   "source": [
    "left_join(x, y, by = join_by(A))\n",
    "left_join(x, y, by = join_by(A, B))"
   ]
  },
  {
   "cell_type": "markdown",
   "metadata": {},
   "source": [
    "*   Use a logical statement, `by = join_by(col1 == col2)`, to match on columns that have different names in each table."
   ]
  },
  {
   "cell_type": "code",
   "execution_count": null,
   "metadata": {
    "vscode": {
     "languageId": "r"
    }
   },
   "outputs": [],
   "source": [
    "left_join(x, y, by = join_by(C == D))"
   ]
  },
  {
   "cell_type": "markdown",
   "metadata": {},
   "source": [
    "*   Use `suffix` to specify the suffix to give to unmatched columns that have the same name in both tables."
   ]
  },
  {
   "cell_type": "code",
   "execution_count": null,
   "metadata": {
    "vscode": {
     "languageId": "r"
    }
   },
   "outputs": [],
   "source": [
    "left_join(x, y, by = join_by(C == D), suffix = c(\"1\", \"2\"))"
   ]
  },
  {
   "cell_type": "markdown",
   "metadata": {},
   "source": [
    "### Set Operations\n",
    "\n",
    "*   `intersect(x, y, ...)`: Rows that appear in both `x` and `y`.\n",
    "*   `setdiff(x, y, ...)`: Rows that appear in `x` but not `y`.\n",
    "*   `union(x, y, ...)`: Rows that appear in x or y, duplicates removed. `union_all()` retains duplicates.\n",
    "*   Use `setequal()` to test whether two data sets contain the exact same rows (in any order)."
   ]
  }
 ],
 "metadata": {
  "colab": {
   "provenance": []
  },
  "kernelspec": {
   "display_name": "R",
   "name": "ir"
  },
  "language_info": {
   "name": "R"
  }
 },
 "nbformat": 4,
 "nbformat_minor": 1
}
