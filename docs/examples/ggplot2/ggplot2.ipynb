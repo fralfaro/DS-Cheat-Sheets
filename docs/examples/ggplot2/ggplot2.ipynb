{
 "cells": [
  {
   "cell_type": "markdown",
   "metadata": {},
   "source": [
    "<div style=\"display: flex; align-items: center;\">\n",
    "    <a href=\"https://colab.research.google.com/github/fralfaro/DS-Cheat-Sheets/blob/main/docs/examples/ggplot2/ggplot2.ipynb\" target=\"_parent\">\n",
    "        <img src=\"https://colab.research.google.com/assets/colab-badge.svg\" alt=\"Open In Colab\"/>\n",
    "    </a>\n",
    "</div>\n",
    "\n",
    "# Ggplot2\n",
    "\n",
    "<img src=\"https://rstudio.github.io/cheatsheets/html/images/logo-ggplot2.png\" alt=\"numpy logo\" width = \"200\">\n",
    "\n",
    "\n",
    "\n",
    "Basics\n",
    "-----------------\n",
    "\n",
    "[ggplot2](https://ggplot2.tidyverse.org/) is based on the **grammar of graphics**, the idea that you can build every graph from the same components: a **data** set, a **coordinate system**, and **geoms**—visual marks that represent data points."
   ]
  },
  {
   "cell_type": "code",
   "execution_count": null,
   "metadata": {
    "vscode": {
     "languageId": "r"
    }
   },
   "outputs": [],
   "source": [
    "library(ggplot2)"
   ]
  },
  {
   "cell_type": "markdown",
   "metadata": {},
   "source": [
    "To display values, map variables in the data to visual properties of the geom (**aesthetics**) like **size**, **color**, and **x** and **y** locations.\n",
    "\n",
    "Complete the template below to build a graph.\n",
    "```R\n",
    "    ggplot(data = <Data>) +\n",
    "      <Geom_Function>(mapping = aes(<Mappings>),\n",
    "      stat = <Stat>,\n",
    "      position = <Position>) +\n",
    "      <Coordinate_Function> +\n",
    "      <Facet_Function> +\n",
    "      <Scale_Function> +\n",
    "      <Theme_Function>\n",
    "```\n",
    "\n",
    "\n",
    "Data, a Geom Function, and Aes Mappings are required. Stat, Position, and the Coordinate, Facet, Scale, and Theme functions are not required and will supply sensible defaults.\n",
    "\n",
    "*   `ggplot(data = mpg, aes(x = cty, y = hwy))`: Begins a plot that you finish by adding layers to. Add one geom function per layer.\n",
    "    \n",
    "*   `last_plot()`: Returns the last plot.\n",
    "    \n",
    "*   `ggsave(\"plot.png\", width = 5, height = 5)`: Saves last plot as 5’ x 5’ file named “plot.png” in working directory. Matches file type to file extension.\n",
    "    \n",
    "\n",
    "Aes\n",
    "-----------\n",
    "\n",
    "Common aesthetic values.\n",
    "\n",
    "*   `color` and `fill`: String (`\"red\"`, `\"#RRGGBB\"`).\n",
    "    \n",
    "*   `linetype`: Integer or string (0 = `\"blank\"`, 1 = `\"solid\"`, 2 = `\"dashed\"`, 3 = `\"dotted\"`, 4 = `\"dotdash\"`, 5 = `\"longdash\"`, 6 = `\"twodash\"`).\n",
    "    \n",
    "*   `size`: Integer (line width in mm for outlines).\n",
    "    \n",
    "*   `linewidth`: Integer (line width in mm for lines).\n",
    "    \n",
    "*   `shape`: Integer/shape name or a single character (`\"a\"`).\n",
    "    \n",
    "    *   `shape` integer/name pairs: 0 = `\"square open\"`, 1 = `\"circle open\"`, 2 = `\"triangle open\"`, 3 = `\"plus\"`, 4 = `\"cross\"`, 5 = `\"diamond open\"`, 6 = `\"triangle down open\"`, 7 = `\"square cross\"`, 8 = `\"asterisk\"`, 9 = `\"diamond plus\"`, 10 = `\"circle plus\"`, 11 = `\"star\"`, 12 = `\"square plus\"`, 13 = `\"circle cross\"`, 14 = `\"square triangle\"`, 15 = `\"square\"`, 16 = `\"circle\"`, 17 = `\"triangle\"`, 18 = `\"diamond\"`, 19 = `\"circle small\"`, 20 = `\"bullet\"`, 21 = `\"circle filled\"`, 22 = `\"square filled\"`, 23 = `\"diamond filled\"`, 24 = `\"triangle filled\"`, 25 = `\"triangle down filled\"`\n",
    "\n",
    "Geoms\n",
    "---------------\n",
    "\n",
    "Use a geom function to represent data points, use the geom’s aesthetic properties to represent variables. Each function returns a layer.\n",
    "\n",
    "### Graphical Primitives"
   ]
  },
  {
   "cell_type": "code",
   "execution_count": null,
   "metadata": {
    "vscode": {
     "languageId": "r"
    }
   },
   "outputs": [],
   "source": [
    "a <- ggplot(economics, aes(date, unemploy))"
   ]
  },
  {
   "cell_type": "code",
   "execution_count": null,
   "metadata": {
    "vscode": {
     "languageId": "r"
    }
   },
   "outputs": [],
   "source": [
    "b <- ggplot(seals, aes(x = long, y = lat))"
   ]
  },
  {
   "cell_type": "markdown",
   "metadata": {},
   "source": [
    "*   `a + geom_blank()` and `a + expand_limits()`: Ensure limits include values across all plots.\n",
    "    \n",
    "*   `b + geom_curve(aes(yend = lat + 1, xend = long + 1), curvature = 1)`: Draw a curved line from `(x, y)` to `(xend, yend)`. `aes()` arguments: `x`, `xend`, `y`, `yend`, `alpha`, `angle`, `color`, `curvature`, `linetype`, `size`.\n",
    "    \n",
    "*   `a + geom_path(lineend = \"butt\", linejoin = \"round\", linemitre = 1)`: Connect observations in the order they appear. `aes()` arguments: `x`, `y`, `alpha`, `color`, `group`, `linetype`, `size`.\n",
    "    \n",
    "*   `a + geom_polygon(aes(alpha = 50))`: Connect points into polygons. `aes()` arguments: `x`, `y`, `alpha`, `color`, `fill`, `group`, `subgroup`, `linetype`, `size`.\n",
    "    \n",
    "*   `b + geom_rect(aes(xmin = long, ymin = lat, xmax = long + 1, ymax = lat + 1))`: Draw a rectangle by connecting four corners (`xmin`, `xmax`, `ymin`, `ymax`). `aes()` arguments: `xmax`, `xmin`, `ymax`, `ymin`, `alpha`, `color`, `fill`, `linetype`, `size`.\n",
    "    \n",
    "*   `a + geom_ribbon(aes(ymin = unemploy - 900, ymax = unemploy + 900)`: For each `x`, plot an interval from `ymin` to `ymax`. `aes()` arguments: `x`, `ymax`, `ymin`, `alpha`, `color`, `fill`, `group`, `linetype`, `size`.\n",
    "    \n",
    "\n",
    "#### Line Segments\n",
    "\n",
    "Common aesthetics: `x`, `y`, `alpha`, `color`, `linetype`, `size`, `linewidth`.\n",
    "\n",
    "*   `b + geom_abline(aes(intercept = 0, slope = 1))`: Draw a diagonal reference line with a given `slope` and `intercept`.\n",
    "    \n",
    "*   `b + geom_hline(aes(yintercept = lat))`: Draw a horizontal reference line with a given `yintercept`.\n",
    "    \n",
    "*   `b + geom_vline(aes(xintercept = long))`: Draw a vertical reference line with a given `xintercept`.\n",
    "    \n",
    "*   `b + geom_segment(aes(yend = lat + 1, xend = long + 1))`: Draw a straight line from `(x, y)` to `(xend, yend)`.\n",
    "    \n",
    "*   `b + geom_spoke(aes(angle = 1:1155, radius = 1))`: Draw line segments using polar coordinates (`angle` and `radius`).\n",
    "    \n",
    "\n",
    "### One Variable - Continuous"
   ]
  },
  {
   "cell_type": "code",
   "execution_count": null,
   "metadata": {
    "vscode": {
     "languageId": "r"
    }
   },
   "outputs": [],
   "source": [
    "c <- ggplot(mpg, aes(hwy))\n",
    "c2 <- ggplot(mpg)"
   ]
  },
  {
   "cell_type": "markdown",
   "metadata": {},
   "source": [
    "*   `c + geom_area(stat = \"bin\")`: Draw an area plot. `aes()` arguments: `x`, `y`, `alpha`, `color`, `fill`, `linetype`, `linewidth`.\n",
    "    \n",
    "*   `c + geom_density(kernel = \"gaussian\")`: Compute and draw kernel density estimates. `aes()` arguments: `x`, `y`, `alpha`, `color`, `fill`, `group`, `linetype`, `linewidth`, `weight`.\n",
    "    \n",
    "*   `c + geom_dotplot()`: Draw a dot plot. `aes()` arguments: `x`, `y`, `alpha`, `color`, `fill`.\n",
    "    \n",
    "*   `c + geom_freqpoly()`: Draw a frequency polygon. `aes()` arguments: `x`, `y`, `alpha`, `color`, `group`, `linetype`, `linewidth`.\n",
    "    \n",
    "*   `c + geom_histogram(binwidth = 5)`: Draw a histogram. `aes()` arguments: `x`, `y`, `alpha`, `color`, `fill`, `linetype`, `linewidth`, `weight`.\n",
    "    \n",
    "*   `c2 + geom_qq(aes(sample = hwy))`: Draw a quantile-quantile plot. `aes()` arguments: `x`, `y`, `alpha`, `color`, `fill`, `linetype`, `size`, `weight`.\n",
    "    \n",
    "\n",
    "### One Variable - Discrete"
   ]
  },
  {
   "cell_type": "code",
   "execution_count": null,
   "metadata": {
    "vscode": {
     "languageId": "r"
    }
   },
   "outputs": [],
   "source": [
    "d <- ggplot(mpg, aes(fl))"
   ]
  },
  {
   "cell_type": "markdown",
   "metadata": {},
   "source": [
    "*   `d + geom_bar()`: Draw a bar chart. `aes()` arguments: `x`, `alpha`, `color`, `fill`, `linetype`, `linewidth`, `weight`.\n",
    "\n",
    "### Two Variables - Both Continuous"
   ]
  },
  {
   "cell_type": "code",
   "execution_count": null,
   "metadata": {
    "vscode": {
     "languageId": "r"
    }
   },
   "outputs": [],
   "source": [
    "e <- ggplot(mpg, aes(cty, hwy))"
   ]
  },
  {
   "cell_type": "markdown",
   "metadata": {},
   "source": [
    "*   `e + geom_label(aes(label = cty), nudge_x = 1, nudge_y = 1)`: Add text with a rectangle background. `aes()` arguments: - `x`, `y`, `label`, `alpha`, `angle`, `color`, `family`, `fontface`, `hjust`, `lineheight`, `size`, `vjust`.\n",
    "    \n",
    "*   `e + geom_point()`: Draw a scatter plot. `aes()` arguments: `x`, `y`, `alpha`, `color`, `fill`, `shape`, `size`, `stroke`.\n",
    "    \n",
    "*   `e + geom_quantile()`: Fit and draw quantile regression for the plot data. `aes()` arguments: `x`, `y`, `alpha`, `color`, `group`, `linetype`, `linewidth`, `weight`.\n",
    "    \n",
    "*   `e + geom_rug(sides = \"bl\")`: Draw a rug plot. `aes()` arguments: `x`, `y`, `alpha`, `color`, `linetype`, `linewidth`.\n",
    "    \n",
    "*   `e + geom_smooth(method = lm)`: Plot smoothed conditional means. `aes()` arguments: `x`, `y`, `alpha`, `color`, `fill`, `group`, `linetype`, `linewidth`, `weight`.\n",
    "    \n",
    "*   `e + geom_text(aes(label = cty), nudge_x = 1, nudge_y = 1)`: Add text to a plot. `aes()` arguments: `x`, `y`, `label`, `alpha`, `angle`, `color`, `family`, `fontface`, `hjust`, `lineheight`, `size`, `vjust`.\n",
    "    \n",
    "\n",
    "### Two Variables - One Discrete, One Continuous"
   ]
  },
  {
   "cell_type": "code",
   "execution_count": null,
   "metadata": {
    "vscode": {
     "languageId": "r"
    }
   },
   "outputs": [],
   "source": [
    "f <- ggplot(mpg, aes(class, hwy))"
   ]
  },
  {
   "cell_type": "markdown",
   "metadata": {},
   "source": [
    "*   `f + geom_col()`: Draw a bar plot. `aes()` arguments: `x`, `y`, `alpha`, `color`, `fill`, `group`, `linetype`, `linewidth`.\n",
    "    \n",
    "*   `f + geom_boxplot()`: Draw a box plot. `aes()` arguments: `x`, `y`, `lower`, `middle`, `upper`, `ymax`, `ymin`, `alpha`, `color`, `fill`, `group`, `linetype`, `shape`, `linewidth`, `weight`.\n",
    "    \n",
    "*   `f + geom_dotplot(binaxis =\"y\", stackdir = \"center\")`: Draw a dot plot. `aes()` arguments: `x`, `y`, `alpha`, `color`, `fill`, `group`.\n",
    "    \n",
    "*   `f + geom_violin(scale = \"area\")`: Draw a violin plot. `aes()` arguments: `x`, `y`, `alpha`, `color`, `fill`, `group`, `linetype`, `linewidth`, `weight`.\n",
    "    \n",
    "\n",
    "### Two Variables - Both Discrete"
   ]
  },
  {
   "cell_type": "code",
   "execution_count": null,
   "metadata": {
    "vscode": {
     "languageId": "r"
    }
   },
   "outputs": [],
   "source": [
    "g <- ggplot(diamonds, aes(cut, color))"
   ]
  },
  {
   "cell_type": "markdown",
   "metadata": {},
   "source": [
    "*   `g + geom_count()`: Plot a count of points in an area to address over plotting. `aes()` arguments: `x`, `y`, `alpha`, `color`, `fill`, `shape`, `size`, `stroke`.\n",
    "    \n",
    "*   `e + geom_jitter(height = 2, width = 2)`: Jitter points in a plot. `aes()` arguments: `x`, `y`, `alpha`, `color`, `fill`, `shape`, `size`.\n",
    "    \n",
    "\n",
    "### Two Variables - Continuous Bivariate Distribution"
   ]
  },
  {
   "cell_type": "code",
   "execution_count": null,
   "metadata": {
    "vscode": {
     "languageId": "r"
    }
   },
   "outputs": [],
   "source": [
    "h <- ggplot(diamonds, aes(carat, price))"
   ]
  },
  {
   "cell_type": "markdown",
   "metadata": {},
   "source": [
    "*   `h + geom_bin2d(binwidth = c(0.25, 500))`: Draw a heatmap of 2D rectangular bin counts. `aes()` arguments: `x`, `y`, `alpha`, `color`, `fill`, `linetype`, `size`, `weight`.\n",
    "    \n",
    "*   `h + geom_density_2d()`: Plot contours from 2D kernel density estimation. `aes()` arguments: `x`, `y`, `alpha`, `color`, `group`, `linetype`, `linewidth`.\n",
    "    \n",
    "*   `h + geom_hex()`: Draw a heatmap of 2D hexagonal bin counts. `aes()` arguments: `x`, `y`, `alpha`, `color`, `fill`, `linewidth`.\n",
    "    \n",
    "\n",
    "### Two Variables - Continuous Function"
   ]
  },
  {
   "cell_type": "code",
   "execution_count": null,
   "metadata": {
    "vscode": {
     "languageId": "r"
    }
   },
   "outputs": [],
   "source": [
    "i <- ggplot(economics, aes(date, unemploy))"
   ]
  },
  {
   "cell_type": "markdown",
   "metadata": {},
   "source": [
    "*   `i + geom_area()`: Draw an area plot. `aes()` arguments: `x`, `y`, `alpha`, `color`, `fill`, `linetype`, `linewidth`.\n",
    "    \n",
    "*   `i + geom_line()`: Connect data points, ordered by the x axis variable. `aes()` arguments: `x`, `y`, `alpha`, `color`, `group`, `linetype`, `linewidth`.\n",
    "    \n",
    "*   `i + geom_step(direction = \"hv\"`: Draw a stairstep plot. `aes()` arguments: `x`, `y`, `alpha`, `color`, `group`, `linetype`, `linewidth`.\n",
    "    \n",
    "\n",
    "### Two Variables - Visualizing Error"
   ]
  },
  {
   "cell_type": "code",
   "execution_count": null,
   "metadata": {
    "vscode": {
     "languageId": "r"
    }
   },
   "outputs": [],
   "source": [
    "df <- data.frame(grp = c(\"A\", \"B\"), fit = 4:5, se = 1:2)\n",
    "j <- ggplot(df, aes(grp, fit, ymin = fit - se, ymax = fit + se))"
   ]
  },
  {
   "cell_type": "markdown",
   "metadata": {},
   "source": [
    "*   `j + geom_crossbar(fatten = 2)`: Draw a crossbar. `aes()` arguments: `x`, `y`, `ymax`, `ymin`, `alpha`, `color`, `fill`, `group`, `linetype`, `linewidth`.\n",
    "    \n",
    "*   `j + geom_errorbar()`: Draw an errorbar. Also `geom_errorbarh()`. `aes()` arguments: `x`, `ymax`, `ymin`, `alpha`, `color`, `group`, `linetype`, `linewidth`, `width`.\n",
    "    \n",
    "*   `j + geom_linerange()`: Draw a line range. `aes()` arguments: `x`, `ymin`, `ymax`, `alpha`, `color`, `group`, `linetype`, `linewidth`.\n",
    "    \n",
    "*   `j + geom_pointrange()`: Draw a point range. `aes()` arguments: `x`, `y`, `ymin`, `ymax`, `alpha`, `color`, `fill`, `group`, `linetype`, `shape`, `linewidth`.\n",
    "    \n",
    "\n",
    "### Two Variables - Maps"
   ]
  },
  {
   "cell_type": "code",
   "execution_count": null,
   "metadata": {
    "vscode": {
     "languageId": "r"
    }
   },
   "outputs": [],
   "source": [
    "murder_data <- data.frame(\n",
    "  murder = USArrests$Murder, \n",
    "  state = tolower(rownames(USArrests))\n",
    ")\n",
    "map <- map_data(\"state\")\n",
    "k <- ggplot(murder_data, aes(fill = murder))"
   ]
  },
  {
   "cell_type": "markdown",
   "metadata": {},
   "source": [
    "*   `k + geom_map(aes(map_id = state), map = map) + expand_limits(x = map$long, y = map$lat)`: Draw polygons as a map. `aes()` arguments: `map_id`, `alpha`, `color`, `fill`, `linetype`, `linewidth`.\n",
    "\n",
    "### Three Variables[](#three-variables)"
   ]
  },
  {
   "cell_type": "code",
   "execution_count": null,
   "metadata": {
    "vscode": {
     "languageId": "r"
    }
   },
   "outputs": [],
   "source": [
    "seals$z <- with(seals, sqrt(delta_long^2 + delta_lat^2))\n",
    "l <- ggplot(seals, aes(long, lat))"
   ]
  },
  {
   "cell_type": "markdown",
   "metadata": {},
   "source": [
    "*   `l + geom_contour(aes(z = z))`: Draw 2D contour plot. `aes()` arguments: `x`, `y`, `z`, `alpha`, `color`, `group`, `linetype`, `linewidth`, `weight`.\n",
    "    \n",
    "*   `l + geom_contour_filled(aes(fill = z))`: Draw 2D contour plot with the space between lines filled. `aes()` arguments: `x`, `y`, `alpha`, `color`, `fill`, `group`, `linetype`, `linewidth`, `subgroup`.\n",
    "    \n",
    "*   `l + geom_raster(aes(fill = z), hjust = 0.5, vjust = 0.5, interpolate = FALSE)`: Draw a raster plot. `aes()` arguments: `x`, `y`, `alpha`, `fill`.\n",
    "    \n",
    "*   `l + geom_tile(aes(fill = z))`: Draw a tile plot. `aes()` arguments: `x`, `y`, `alpha`, `color`, `fill`, `linetype`, `linewidth`, `width`.\n",
    "    \n",
    "\n",
    "Stats\n",
    "---------------\n",
    "\n",
    "An alternative way to build a layer.\n",
    "\n",
    "A stat builds new variables to plot (e.g., count, prop).\n",
    "\n",
    "Visualize a stat by changing the default stat of a geom function, `geom_bar(stat = \"count\")`, or by using a stat function, `stat_count(geom = \"bar\")`, which calls a default geom to make a layer (equivalent to a geom function). Use `after_stat(name)` syntax to map the stat variable `name` to an aesthetic."
   ]
  },
  {
   "cell_type": "code",
   "execution_count": null,
   "metadata": {
    "vscode": {
     "languageId": "r"
    }
   },
   "outputs": [],
   "source": [
    "i + stat_density_2d(aes(fill = after_stat(level)), geom = \"polygon\")"
   ]
  },
  {
   "cell_type": "markdown",
   "metadata": {},
   "source": [
    "In this example, `\"polygon\"` is the geom to use, `stat_density_2d()` is the stat function, `aes()` contains the geom mappings, and `level` is the variable created by stat.\n",
    "\n",
    "*   `c + stat_bin(binwidth = 1, boundary = 10)`: `x`, `y` | `count`, `ncount`, `density`, `ndensity`\n",
    "    \n",
    "*   `c + stat_count(width = 1)`: `x`, `y` | `count`, `density`\n",
    "    \n",
    "*   `c + stat_density(adjust = 1, kernel = \"gaussian\")`: `x`, `y` | `count`, `density`, `scaled`\n",
    "    \n",
    "*   `e + stat_bin_2d(bins = 30, drop = T)`: `x`, `y`, `fill` | `count`, `density`\n",
    "    \n",
    "*   `e + stat_bin_hex(bins =30)`: `x`, `y`, `fill` | `count`, `density`\n",
    "    \n",
    "*   `e + stat_density_2d(contour = TRUE, n = 100)`: `x`, `y`, `color`, `linewidth` | `level`\n",
    "    \n",
    "*   `e + stat_ellipse(level = 0.95, segments = 51, type = \"t\")`\n",
    "    \n",
    "*   `l + stat_contour(aes(z = z))`: `x`, `y`, `z`, `order` | `level`\n",
    "    \n",
    "*   `l + stat_summary_hex(aes(z = z), bins = 30, fun = max)`: `x`, `y`, `z`, `fill` | `value`\n",
    "    \n",
    "*   `l + stat_summary_2d(aes(z = z), bins = 30, fun = mean)`: `x`, `y`, `z`, `fill` | `value`\n",
    "    \n",
    "*   `f + stat_boxplot(coef = 1.5)`: `x`, `y` | `lower`, `middle`, `upper`, `width`, `ymin`, `ymax`\n",
    "    \n",
    "*   `f + stat_ydensity(kernel = \"gaussian\", scale = \"area\")`: `x`, `y` | `density`, `scaled`, `count`, `n`, `violinwidth`, `width`\n",
    "    \n",
    "*   `e + stat_ecdf(n = 40)`: `x`, `y` | `x`, `y`\n",
    "    \n",
    "*   `e + stat_quantile(quantiles = c(0.1, 0.9), formula = y ~ log(x), method = \"rq\")`: `x`, `y` | `quantile`\n",
    "    \n",
    "*   `e + stat_smooth(method = \"lm\", formula = y ~ x, se = T, level = 0.95)`: `x`, `y` | `se`, `x`, `y`, `ymin`, `ymax`\n",
    "    \n",
    "*   `ggplot() + xlim(-5, 5) + stat_function(fun = dnorm, n = 20, geom = \"point\")`: `x` | `x`, `y`\n",
    "    \n",
    "*   `ggplot() + stat_qq(aes(sample = 1:100))`: `x`, `y`, `sample` | `sample`, `theoretical`\n",
    "    \n",
    "*   `e + stat_sum()`: `x`, `y`, `size` | `n`, `prop`\n",
    "    \n",
    "*   `e + stat_summary(fun.data = \"mean_cl_boot\")`\n",
    "    \n",
    "*   `h + stat_summary_bin(fun = \"mean\", geom = \"bar\")`\n",
    "    \n",
    "*   `e + stat_identity()`\n",
    "    \n",
    "*   `e + stat_unique()`\n",
    "    \n",
    "\n",
    "Scales\n",
    "-----------------\n",
    "\n",
    "Override defaults with **scales** package.\n",
    "\n",
    "**Scales** map data values to the visual values of an aesthetic. To change a mapping, add a new scale."
   ]
  },
  {
   "cell_type": "code",
   "execution_count": null,
   "metadata": {
    "vscode": {
     "languageId": "r"
    }
   },
   "outputs": [],
   "source": [
    "n <- d + geom_bar(aes(fill = fl))\n",
    "    \n",
    "n + scale_fill_manual(\n",
    "  value = c(),\n",
    "  limits = c(), \n",
    "  breaks = c(),\n",
    "  name = \"fuel\", \n",
    "  labels = c(\"D\", \"E\", \"P\", \"R\")\n",
    ")"
   ]
  },
  {
   "cell_type": "markdown",
   "metadata": {},
   "source": [
    "In this example, `scale_` specifies a scale function, `fill` is the aesthetic to adjust, and `manual` is the prepackaged scale to use.\n",
    "\n",
    "`values` contains scale-specific arguments, `limits` specifies the range of values to include in mappings, `breaks` specifies the breaks to use in legend/axis, and `name` and `labels` specify the title and labels to use in the legend/axis.\n",
    "\n",
    "### General Purpose Scales\n",
    "\n",
    "Use with most aesthetics.\n",
    "\n",
    "*   `scale_*_continuous()`: Map continuous values to visual ones.\n",
    "    \n",
    "*   `scale_*_discrete()`: Map discrete values to visual ones.\n",
    "    \n",
    "*   `scale_*_binned()`: Map continuous values to discrete bins.\n",
    "    \n",
    "*   `scale_*_identity()`: Use data values as visual ones.\n",
    "    \n",
    "*   `scale_*_manual(values = c())`: Map discrete values to manually chosen visual ones.\n",
    "    \n",
    "*   `scale_*_date(date_labels = \"%m/%d\", date_breaks = \"2 weeks\")`: Treat data values as dates.\n",
    "    \n",
    "*   `scale_*_datetime()`: Treat data values as date times. Same as `scale_*_date()`. See `?strptime` for label formats.\n",
    "    \n",
    "\n",
    "### X & Y Location Scales\n",
    "\n",
    "Use with x or y aesthetics (x shown here).\n",
    "\n",
    "*   `scale_x_log10()`: Plot `x` on log10 scale.\n",
    "    \n",
    "*   `scale_x_reverse()`: Reverse the direction of the x axis.\n",
    "    \n",
    "*   `scale_x_sqrt()`: Plot `x` on square root scale.\n",
    "    \n",
    "\n",
    "### Color and Fill Scales (Discrete)\n",
    "\n",
    "*   `n + scale_fill_brewer(palette = \"Blues\")`: Use color scales from ColorBrewer. For palette choices `RColorBrewer::display.brewer.all()`.\n",
    "    \n",
    "*   `n + scale_fill_grey(start = 0.2, end = 0.8, na.value = \"red\")`: Use a grey gradient color scale.\n",
    "    \n",
    "\n",
    "### Color and Fill Scales (Continuous)"
   ]
  },
  {
   "cell_type": "code",
   "execution_count": null,
   "metadata": {
    "vscode": {
     "languageId": "r"
    }
   },
   "outputs": [],
   "source": [
    "o <- c + geom_dotplot(aes(fill = ..x..))"
   ]
  },
  {
   "cell_type": "markdown",
   "metadata": {},
   "source": [
    "*   `o + scale_fill_distiller(palette = \"Blues\")`: Interpolate a palette into a continuous scale.\n",
    "    \n",
    "*   `o + scale_fill_gradient(low = \"red\", high = \"yellow\")`: Create a two color gradient.\n",
    "    \n",
    "*   `o + scale_fill_gradient2(low = \"red\", high = \"blue\", mid = \"white\", midpoint = 25)`: Create a diverging color gradient.\n",
    "    \n",
    "*   `o + scale_fill_gradientn(colors = topo.colors(6))`: Create a n-color gradient. Also `rainbow()`, `heat.colors()`, `terrain.colors()`, `cm.colors()`, `RColorBrewer::brewer.pal()`.\n",
    "    \n",
    "\n",
    "### Shape and Size Scales"
   ]
  },
  {
   "cell_type": "code",
   "execution_count": null,
   "metadata": {
    "vscode": {
     "languageId": "r"
    }
   },
   "outputs": [],
   "source": [
    "p <- e + geom_point(aes(shape = fl, size = cyl))"
   ]
  },
  {
   "cell_type": "markdown",
   "metadata": {},
   "source": [
    "*   `p + scale_shape() + scale_size()`: Map discrete values to shape and size aesthetics.\n",
    "    \n",
    "*   `p + scale_shape_manual(values = c(3:7))`: Map discrete values to specified shape values.\n",
    "    \n",
    "*   `p + scale_radius(range = c(1,6))`: Map values to a shape’s radius.\n",
    "    \n",
    "*   `p + scale_size_area(max_size = 6)`: Like `scale_size()` but maps zero values to zero size.\n",
    "    \n",
    "\n",
    "Shapes used here are the same as the ones listed in the Aes section.\n",
    "\n",
    "Coordinate Systems\n",
    "-----------------------------------------"
   ]
  },
  {
   "cell_type": "code",
   "execution_count": null,
   "metadata": {
    "vscode": {
     "languageId": "r"
    }
   },
   "outputs": [],
   "source": [
    "u <- d + geom_bar()"
   ]
  },
  {
   "cell_type": "markdown",
   "metadata": {},
   "source": [
    "*   `u + coord_cartesian(xlim = c(0, 5))`: `xlim`, `ylim`. The default Cartesian coordinate system.\n",
    "    \n",
    "*   `u + coord_fixed(ratio = 1/2)`: `ratio`, `xlim`, `ylim`. Cartesian coordinates with fixed aspect ration between x and y units.\n",
    "    \n",
    "*   `ggplot(mpg, aes(y = fl)) + geom_bar()`: Flip Cartesian coordinates by switching x and y aesthetic mappings.\n",
    "    \n",
    "*   `u + coord_polar(theta = \"x\", direction = 1)`: `theta`, `start`, `direction`. Polar coordinates.\n",
    "    \n",
    "*   `u + coord_trans(y = \"sqrt\")`: `x`, `y`, `xlim`, `ylim`. Transformed Cartesian coordinates. Set `xtrans` and `ytrans` to the name of a window function.\n",
    "    \n",
    "*   `π + coord_quickmap(); π + coord_map(projection = \"ortho\", orientation = c(41, -74, 0))`: `projection`, `xlim`, `ylim`. Map projections from the **mapproj** packages (`mercator` (default), `azequalarea`, `lagrange`, etc.).\n",
    "    \n",
    "\n",
    "Position Adjustments\n",
    "---------------------------------------------\n",
    "\n",
    "Position adjustments determine how to arrange geoms that would otherwise occupy the same space."
   ]
  },
  {
   "cell_type": "code",
   "execution_count": null,
   "metadata": {
    "vscode": {
     "languageId": "r"
    }
   },
   "outputs": [],
   "source": [
    "s <- ggplot(mpg, aes(fl, fill = drv))"
   ]
  },
  {
   "cell_type": "markdown",
   "metadata": {},
   "source": [
    "*   `s + geom_bar(position = \"dodge\")`: Arrange elements side by side.\n",
    "    \n",
    "*   `s + geom_bar(position = \"fill\")`: Stack elements on top of one another, normalize height.\n",
    "    \n",
    "*   `e + geom_point(position = \"jitter\")`: Add random noise to X and Y position of each element to avoid over plotting.\n",
    "    \n",
    "*   `e + geom_label(position = \"nudge\")`: Nudge labels away from points.\n",
    "    \n",
    "*   `s + geom_bar(position = \"stack\")`: Stack elements on top of one another.\n",
    "    \n",
    "\n",
    "Each position adjustment can be recast as a function with manual `width` and `height` arguments:"
   ]
  },
  {
   "cell_type": "code",
   "execution_count": null,
   "metadata": {
    "vscode": {
     "languageId": "r"
    }
   },
   "outputs": [],
   "source": [
    "s + geom_bar(position = position_dodge(width = 1))"
   ]
  },
  {
   "cell_type": "markdown",
   "metadata": {},
   "source": [
    "Themes\n",
    "-----------------\n",
    "\n",
    "*   `u + theme_bw()`: White background with grid lines.\n",
    "    \n",
    "*   `u + theme_gray()`: Grey background with white grid lines (default theme).\n",
    "    \n",
    "*   `u + theme_dark()`: Dark grey background and grid lines for contrast.\n",
    "    \n",
    "*   `u + theme_classic()`: No grid lines.\n",
    "    \n",
    "*   `u + theme_light()`: Light grey axes and grid lines.\n",
    "    \n",
    "*   `u + theme_linedraw()`: Uses only black lines.\n",
    "    \n",
    "*   `u + theme_minimal()`: Minimal theme.\n",
    "    \n",
    "*   `u + theme_void()`: Empty theme.\n",
    "    \n",
    "*   `u + theme()`: Customize aspects of the theme such as axis, legend, panel, and facet properties.\n",
    "    "
   ]
  },
  {
   "cell_type": "code",
   "execution_count": null,
   "metadata": {
    "vscode": {
     "languageId": "r"
    }
   },
   "outputs": [],
   "source": [
    "r + ggtitle(\"Title\") + theme(plot.title.postion = \"plot\")"
   ]
  },
  {
   "cell_type": "code",
   "execution_count": null,
   "metadata": {
    "vscode": {
     "languageId": "r"
    }
   },
   "outputs": [],
   "source": [
    "r + theme(panel.background = element_rect(fill = \"blue\"))"
   ]
  },
  {
   "cell_type": "markdown",
   "metadata": {},
   "source": [
    "Faceting\n",
    "---------------------\n",
    "\n",
    "Facets divide a plot into subplots based on the values of one or more discrete variables."
   ]
  },
  {
   "cell_type": "code",
   "execution_count": null,
   "metadata": {
    "vscode": {
     "languageId": "r"
    }
   },
   "outputs": [],
   "source": [
    "t <- ggplot(mpg, aes(cty, hwy)) + geom_point()"
   ]
  },
  {
   "cell_type": "markdown",
   "metadata": {},
   "source": [
    "*   `t + facet_grid(. ~ fl)`: Facet into a column based on fl.\n",
    "    \n",
    "*   `t + facet_grid(year ~ .)`: Facet into rows based on year.\n",
    "    \n",
    "*   `t + facet_grid(year ~ fl)`: Facet into both rows and columns.\n",
    "    \n",
    "*   `t + facet_wrap(~ fl)`: Wrap facets into a rectangular layout.\n",
    "    \n",
    "*   `t + facet_grid(drv ~ fl, scales = \"free\")`: Set **scales** to let axis limits vary across facets. Also `\"free_x\"` for x axis limits adjust to individual facets and `\"free_y\"` for y axis limits adjust to individual facets.\n",
    "    \n",
    "\n",
    "Set **labeller** to adjust facet label:\n",
    "\n",
    "*   `t + facet_grid(. ~ fl, labeller = label_both)`: Labels each facet as “fl: c”, “fl: d”, etc.\n",
    "    \n",
    "*   `t + facet_grid(fl ~ ., labeller = label_bquote(alpha ^ .(fl)))`: Labels each facet as “𝛼c”, “𝛼d”, etc.\n",
    "    \n",
    "\n",
    "Labels and Legends\n",
    "-----------------------------------------\n",
    "\n",
    "Use `labs()` to label elements of your plot."
   ]
  },
  {
   "cell_type": "markdown",
   "metadata": {},
   "source": [
    "```R\n",
    "t + labs(x = \"New x axis label\", \n",
    "  y = \"New y axis label\",\n",
    "  title =\"Add a title above the plot\",\n",
    "  subtitle = \"Add a subtitle below title\",\n",
    "  caption = \"Add a caption below plot\",\n",
    "  alt = \"Add alt text to the plot\",\n",
    "  <Aes> = \"New <Aes> legend title\")\n",
    "```"
   ]
  },
  {
   "cell_type": "markdown",
   "metadata": {},
   "source": [
    "*   `t + annotate(geom = \"text\", x = 8, y = 9, label = \"A\")`: Places a geom with manually selected aesthetics.\n",
    "    \n",
    "*   `p + guides(x = guide_axis(n.dodge = 2))`: Avoid crowded or overlapping labels with `guide_axis(n.dodge or angle)`.\n",
    "    \n",
    "*   `n + guides(fill = \"none\")`: Set legend type for each aesthetic: `colorbar`, `legend`, or `none` (no legend).\n",
    "    \n",
    "*   `n + theme(legend.position = \"bottom\")`: Place legend at “bottom”, “top”, “left”, or “right”.\n",
    "    \n",
    "*   `n + scale_fill_discrete(name = \"Title\", labels = c(\"A\", \"B\", \"C\", \"D\", \"E\"))`: Set legend title and labels with a scale function.\n",
    "    \n",
    "\n",
    "Zooming\n",
    "-------------------\n",
    "\n",
    "*   `t + coord_cartesian(xlim = c(0, 100), ylim = c(10,20))`: Zoom without clipping (preferred).\n",
    "    \n",
    "*   `t + xlim(0, 100) + ylim(10, 20)` or `t + scale_x_continuous(limits = c(0, 100)) + scale_y_continuous(limits = c(0, 100))`: Zoom with clipping (removes unseen data points).\n",
    "    "
   ]
  }
 ],
 "metadata": {
  "colab": {
   "provenance": []
  },
  "kernelspec": {
   "display_name": "R",
   "name": "ir"
  },
  "language_info": {
   "name": "R"
  }
 },
 "nbformat": 4,
 "nbformat_minor": 1
}
