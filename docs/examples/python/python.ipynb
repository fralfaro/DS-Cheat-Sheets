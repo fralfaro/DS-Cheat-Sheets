{
 "cells": [
  {
   "cell_type": "markdown",
   "id": "2cdf053f",
   "metadata": {},
   "source": [
    "<div style=\"display: flex; align-items: center;\">\n",
    "    <a href=\"https://colab.research.google.com/github/fralfaro/DS-Cheat-Sheets/blob/main/docs/examples/python/python.ipynb\" target=\"_parent\">\n",
    "        <img src=\"https://colab.research.google.com/assets/colab-badge.svg\" alt=\"Open In Colab\"/>\n",
    "    </a>\n",
    "</div>"
   ]
  },
  {
   "cell_type": "markdown",
   "id": "0f757565",
   "metadata": {},
   "source": [
    "# Python \n",
    "\n",
    "\n",
    "<img src=\"https://raw.githubusercontent.com/fralfaro/DS-Cheat-Sheets/main/docs/examples/python/python.png\" alt=\"numpy logo\" width = \"200\">\n",
    "\n",
    "[Python](https://www.python.org/) is a high-level, interpreted programming\n",
    " language known for its simplicity, readability, and versatility. \n",
    " Created by Guido van Rossum and first released in 1991,\n",
    "  Python has gained immense popularity in various domains,\n",
    "   including web development, data science, automation, and more."
   ]
  },
  {
   "cell_type": "markdown",
   "id": "bbc8b478",
   "metadata": {},
   "source": [
    "## Why Python?\n",
    "\n",
    "Python has experienced a remarkable surge in popularity over the years and has become one of the most \n",
    "    widely used programming languages across various fields. \n",
    "\n",
    "<img src=\"https://raw.githubusercontent.com/fralfaro/DS-Cheat-Sheets/main/docs/examples/python/survey2.png\" alt=\"numpy logo\" width = \"400\">"
   ]
  },
  {
   "cell_type": "markdown",
   "id": "8e2f9b13",
   "metadata": {},
   "source": [
    "## Hello, World!\n"
   ]
  },
  {
   "cell_type": "code",
   "execution_count": 1,
   "id": "3002d601",
   "metadata": {},
   "outputs": [
    {
     "name": "stdout",
     "output_type": "stream",
     "text": [
      "Hello, World!\n"
     ]
    }
   ],
   "source": [
    "print(\"Hello, World!\")"
   ]
  },
  {
   "cell_type": "markdown",
   "id": "2f88a434",
   "metadata": {},
   "source": [
    "## Comments"
   ]
  },
  {
   "cell_type": "code",
   "execution_count": 2,
   "id": "cbe1bb8e",
   "metadata": {},
   "outputs": [],
   "source": [
    "# This is a comment"
   ]
  },
  {
   "cell_type": "markdown",
   "id": "7e310817",
   "metadata": {},
   "source": [
    "## Variables and Data Types\n"
   ]
  },
  {
   "cell_type": "code",
   "execution_count": 3,
   "id": "350dfa62",
   "metadata": {},
   "outputs": [
    {
     "name": "stdout",
     "output_type": "stream",
     "text": [
      "x: 5\n",
      "y: 3.14\n",
      "name: John\n",
      "is_student: True\n"
     ]
    }
   ],
   "source": [
    "# Define an integer variable\n",
    "x = 5               # Integer\n",
    "\n",
    "# Define a float variable\n",
    "y = 3.14            # Float\n",
    "\n",
    "# Define a string variable\n",
    "name = \"John\"       # String\n",
    "\n",
    "# Define a boolean variable\n",
    "is_student = True   # Boolean\n",
    "\n",
    "# Print the values of the variables\n",
    "print(\"x:\", x)\n",
    "print(\"y:\", y)\n",
    "print(\"name:\", name)\n",
    "print(\"is_student:\", is_student)"
   ]
  },
  {
   "cell_type": "markdown",
   "id": "bd0ecf8a",
   "metadata": {},
   "source": [
    "## Basic Operations\n"
   ]
  },
  {
   "cell_type": "code",
   "execution_count": 4,
   "id": "220590d0",
   "metadata": {},
   "outputs": [
    {
     "name": "stdout",
     "output_type": "stream",
     "text": [
      "sum_result: 8.14\n",
      "sub_result: 1.8599999999999999\n",
      "mul_result: 15.700000000000001\n",
      "div_result: 1.592356687898089\n"
     ]
    }
   ],
   "source": [
    "# Perform basic arithmetic operations\n",
    "sum_result = x + y  # Add x and y\n",
    "sub_result = x - y  # Subtract y from x\n",
    "mul_result = x * y  # Multiply x and y\n",
    "div_result = x / y  # Divide x by y\n",
    "\n",
    "# Print the results of the arithmetic operations\n",
    "print(\"sum_result:\", sum_result)\n",
    "print(\"sub_result:\", sub_result)\n",
    "print(\"mul_result:\", mul_result)\n",
    "print(\"div_result:\", div_result)"
   ]
  },
  {
   "cell_type": "markdown",
   "id": "bf401d58",
   "metadata": {},
   "source": [
    "## String Operations\n",
    "\n"
   ]
  },
  {
   "cell_type": "code",
   "execution_count": 5,
   "id": "be3e2926",
   "metadata": {},
   "outputs": [
    {
     "name": "stdout",
     "output_type": "stream",
     "text": [
      "full_name: John Doe\n",
      "formatted_string: Hello, John!\n"
     ]
    }
   ],
   "source": [
    "# String concatenation\n",
    "full_name = name + \" Doe\"  # Concatenate 'name' and \" Doe\"\n",
    "\n",
    "# Formatted string\n",
    "formatted_string = f\"Hello, {name}!\"  # Create a formatted string using 'name'\n",
    "\n",
    "# Print the results of string operations\n",
    "print(\"full_name:\", full_name)\n",
    "print(\"formatted_string:\", formatted_string)"
   ]
  },
  {
   "cell_type": "markdown",
   "id": "b167a75f",
   "metadata": {},
   "source": [
    "## Conditional Statements\n"
   ]
  },
  {
   "cell_type": "code",
   "execution_count": 6,
   "id": "ffee9551",
   "metadata": {},
   "outputs": [
    {
     "name": "stdout",
     "output_type": "stream",
     "text": [
      "x is greater\n"
     ]
    }
   ],
   "source": [
    "# Define the values of x and y\n",
    "x = 7\n",
    "y = 3.5\n",
    "\n",
    "# Check if x is greater than y\n",
    "if x > y:\n",
    "    print(\"x is greater\")\n",
    "# If not, check if x is less than y\n",
    "elif x < y:\n",
    "    print(\"y is greater\")\n",
    "# If neither condition is true, they must be equal\n",
    "else:\n",
    "    print(\"x and y are equal\")"
   ]
  },
  {
   "cell_type": "markdown",
   "id": "be074577",
   "metadata": {},
   "source": [
    "## Lists"
   ]
  },
  {
   "cell_type": "markdown",
   "id": "a3e8ead9",
   "metadata": {},
   "source": [
    "### Creating Lists\n"
   ]
  },
  {
   "cell_type": "code",
   "execution_count": 7,
   "id": "360e7e48",
   "metadata": {},
   "outputs": [
    {
     "name": "stdout",
     "output_type": "stream",
     "text": [
      "x: [1, 3, 2]\n"
     ]
    }
   ],
   "source": [
    "# Create a list with elements 1, 3, and 2\n",
    "x = [1, 3, 2]\n",
    "\n",
    "# Print the list\n",
    "print(\"x:\", x)"
   ]
  },
  {
   "cell_type": "markdown",
   "id": "66171d3a",
   "metadata": {},
   "source": [
    "### List Functions and Methods\n"
   ]
  },
  {
   "cell_type": "code",
   "execution_count": 8,
   "id": "300fcfec",
   "metadata": {},
   "outputs": [
    {
     "name": "stdout",
     "output_type": "stream",
     "text": [
      "sorted_list: [1, 2, 3]\n",
      "reversed_list: [3, 2, 1]\n",
      "count_2: 1\n"
     ]
    }
   ],
   "source": [
    "# Return a sorted copy of the list\n",
    "sorted_list = sorted(x)  # Creates a new list with elements in sorted order\n",
    "\n",
    "# Sorts the list in place (replaces x)\n",
    "x.sort()  # Modifies the existing list x to be sorted\n",
    "\n",
    "# Reverse the order of elements in x\n",
    "reversed_list = list(reversed(x))  # Creates a new list with elements in reversed order\n",
    "\n",
    "# Reverse the list in place\n",
    "x.reverse()  # Modifies the existing list x to be reversed\n",
    "\n",
    "# Count the number of element 2 in the list\n",
    "count_2 = x.count(2)  # Counts the occurrences of element 2 in the list x\n",
    "\n",
    "# Print the results of list operations\n",
    "print(\"sorted_list:\", sorted_list)\n",
    "print(\"reversed_list:\", reversed_list)\n",
    "print(\"count_2:\", count_2)"
   ]
  },
  {
   "cell_type": "markdown",
   "id": "032c5e43",
   "metadata": {},
   "source": [
    "### Selecting List Elements\n"
   ]
  },
  {
   "cell_type": "code",
   "execution_count": 9,
   "id": "69b325d7",
   "metadata": {},
   "outputs": [
    {
     "name": "stdout",
     "output_type": "stream",
     "text": [
      "element_0: 3\n",
      "last_element: 1\n",
      "subset_1_to_3: [2, 1]\n",
      "subset_2_to_end: [1]\n",
      "subset_0_to_3: [3, 2, 1]\n"
     ]
    }
   ],
   "source": [
    "# Select the 0th element in the list\n",
    "element_0 = x[0]  # Assigns the first element of x to element_0\n",
    "\n",
    "# Select the last element in the list\n",
    "last_element = x[-1]  # Assigns the last element of x to last_element\n",
    "\n",
    "# Select 1st (inclusive) to 3rd (exclusive)\n",
    "subset_1_to_3 = x[1:3]  # Creates a subset containing elements from index 1 to 2\n",
    "\n",
    "# Select the 2nd to the end\n",
    "subset_2_to_end = x[2:]  # Creates a subset containing elements from index 2 to the end\n",
    "\n",
    "# Select 0th to 3rd (exclusive)\n",
    "subset_0_to_3 = x[:3]  # Creates a subset containing elements from index 0 to 2\n",
    "\n",
    "# Print the selected elements and subsets\n",
    "print(\"element_0:\", element_0)\n",
    "print(\"last_element:\", last_element)\n",
    "print(\"subset_1_to_3:\", subset_1_to_3)\n",
    "print(\"subset_2_to_end:\", subset_2_to_end)\n",
    "print(\"subset_0_to_3:\", subset_0_to_3)"
   ]
  },
  {
   "cell_type": "markdown",
   "id": "5644fffd",
   "metadata": {},
   "source": [
    "### Concatenating Lists\n"
   ]
  },
  {
   "cell_type": "code",
   "execution_count": 10,
   "id": "5e80b6fa",
   "metadata": {},
   "outputs": [
    {
     "name": "stdout",
     "output_type": "stream",
     "text": [
      "concatenated_list: [1, 3, 6, 10, 15, 21]\n",
      "replicated_list: [1, 3, 6, 1, 3, 6, 1, 3, 6]\n"
     ]
    }
   ],
   "source": [
    "# Define the x and y lists\n",
    "x = [1, 3, 6]\n",
    "y = [10, 15, 21]\n",
    "\n",
    "# Concatenate lists using '+'\n",
    "concatenated_list = x + y  # Creates a new list by concatenating x and y\n",
    "\n",
    "# Replicate elements in a list using '*'\n",
    "replicated_list = 3 * x  # Creates a new list with elements of x replicated 3 times\n",
    "\n",
    "# Print the results of list operations\n",
    "print(\"concatenated_list:\", concatenated_list)\n",
    "print(\"replicated_list:\", replicated_list)"
   ]
  },
  {
   "cell_type": "markdown",
   "id": "00b306cc",
   "metadata": {},
   "source": [
    "## Dictionaries\n",
    "\n",
    "### Creating Dictionaries\n"
   ]
  },
  {
   "cell_type": "code",
   "execution_count": 11,
   "id": "54cbfcd7",
   "metadata": {},
   "outputs": [
    {
     "name": "stdout",
     "output_type": "stream",
     "text": [
      "my_dict: {'a': 1, 'b': 2, 'c': 3}\n"
     ]
    }
   ],
   "source": [
    "# Create a dictionary with key-value pairs\n",
    "my_dict = {'a': 1, 'b': 2, 'c': 3}\n",
    "\n",
    "# Print the dictionary\n",
    "print(\"my_dict:\", my_dict)"
   ]
  },
  {
   "cell_type": "markdown",
   "id": "95c135cd",
   "metadata": {},
   "source": [
    "### Dictionary Functions and Methods\n"
   ]
  },
  {
   "cell_type": "code",
   "execution_count": 12,
   "id": "692806a1",
   "metadata": {},
   "outputs": [
    {
     "name": "stdout",
     "output_type": "stream",
     "text": [
      "keys: dict_keys(['a', 'b', 'c'])\n",
      "values: dict_values([1, 2, 3])\n",
      "value_a: 1\n"
     ]
    }
   ],
   "source": [
    "# Get the keys of a dictionary\n",
    "keys = my_dict.keys()  # Returns dict_keys(['a', 'b', 'c'])\n",
    "\n",
    "# Get the values of a dictionary\n",
    "values = my_dict.values()  # Returns dict_values([1, 2, 3])\n",
    "\n",
    "# Get a value from a dictionary by specifying the key\n",
    "value_a = my_dict['a']  # Returns 1\n",
    "\n",
    "# Print the results of dictionary operations\n",
    "print(\"keys:\", keys)\n",
    "print(\"values:\", values)\n",
    "print(\"value_a:\", value_a)"
   ]
  },
  {
   "cell_type": "markdown",
   "id": "459a3a1a",
   "metadata": {},
   "source": [
    "## Loops"
   ]
  },
  {
   "cell_type": "code",
   "execution_count": 13,
   "id": "2353c0d8",
   "metadata": {},
   "outputs": [
    {
     "name": "stdout",
     "output_type": "stream",
     "text": [
      "Using a for loop:\n",
      "1\n",
      "2\n",
      "3\n",
      "4\n",
      "5\n"
     ]
    }
   ],
   "source": [
    "# Define a list of numbers\n",
    "numbers = [1, 2, 3, 4, 5]\n",
    "\n",
    "# For loop\n",
    "print(\"Using a for loop:\")\n",
    "for num in numbers:\n",
    "    print(num)"
   ]
  },
  {
   "cell_type": "code",
   "execution_count": 14,
   "id": "7f2027a8",
   "metadata": {},
   "outputs": [
    {
     "name": "stdout",
     "output_type": "stream",
     "text": [
      "Using a while loop:\n",
      "5\n",
      "4\n",
      "3\n",
      "2\n",
      "1\n"
     ]
    }
   ],
   "source": [
    "# While loop\n",
    "x = 5\n",
    "print(\"Using a while loop:\")\n",
    "while x > 0:\n",
    "    print(x)\n",
    "    x -= 1"
   ]
  },
  {
   "cell_type": "markdown",
   "id": "d5022fc8",
   "metadata": {},
   "source": [
    "## Functions"
   ]
  },
  {
   "cell_type": "code",
   "execution_count": 15,
   "id": "23450976",
   "metadata": {},
   "outputs": [
    {
     "name": "stdout",
     "output_type": "stream",
     "text": [
      "greeting: Hello, Alice!\n"
     ]
    }
   ],
   "source": [
    "# Define a function that takes a name parameter\n",
    "def greet(name):\n",
    "    return f\"Hello, {name}!\"\n",
    "\n",
    "# Call the greet function with the argument \"Alice\"\n",
    "greeting = greet(\"Alice\")  # Calls the greet function and stores the result in greeting\n",
    "\n",
    "# Print the greeting\n",
    "print(\"greeting:\", greeting)"
   ]
  },
  {
   "cell_type": "markdown",
   "id": "1804574a",
   "metadata": {},
   "source": [
    "## Built-in Functions\n"
   ]
  },
  {
   "cell_type": "code",
   "execution_count": 16,
   "id": "acc5fc30",
   "metadata": {},
   "outputs": [
    {
     "name": "stdout",
     "output_type": "stream",
     "text": [
      "Length of fruits list: 4\n",
      "Maximum value in numbers list: 42\n",
      "Minimum value in numbers list: 5\n"
     ]
    }
   ],
   "source": [
    "# Define a list of fruits and numbers\n",
    "fruits = ['apple', 'banana', 'orange', 'kiwi']\n",
    "numbers = [14, 27, 8, 42, 5]\n",
    "\n",
    "# Get the length of the list 'fruits'\n",
    "len_fruits = len(fruits)\n",
    "\n",
    "# Find the maximum value in the list 'numbers'\n",
    "max_number = max(numbers)\n",
    "\n",
    "# Find the minimum value in the list 'numbers'\n",
    "min_number = min(numbers)\n",
    "\n",
    "# Print the results\n",
    "print(\"Length of fruits list:\", len_fruits)\n",
    "print(\"Maximum value in numbers list:\", max_number)\n",
    "print(\"Minimum value in numbers list:\", min_number)"
   ]
  },
  {
   "cell_type": "markdown",
   "id": "a8bf0e51",
   "metadata": {},
   "source": [
    "## Importing Modules\n"
   ]
  },
  {
   "cell_type": "code",
   "execution_count": 17,
   "id": "769c0a3a",
   "metadata": {},
   "outputs": [
    {
     "name": "stdout",
     "output_type": "stream",
     "text": [
      "sqrt_result: 0.0\n",
      "random_number: 6\n",
      "sqrt_result_reuse: 0.0\n"
     ]
    }
   ],
   "source": [
    "import math\n",
    "\n",
    "# Calculate square root using math module\n",
    "sqrt_result = math.sqrt(x)\n",
    "\n",
    "# Generate a random number between 1 and 10\n",
    "from random import randint\n",
    "random_number = randint(1, 10)\n",
    "\n",
    "# Reusing the math module for another calculation\n",
    "sqrt_result_reuse = math.sqrt(x)\n",
    "\n",
    "# Print the results\n",
    "print(\"sqrt_result:\", sqrt_result)\n",
    "print(\"random_number:\", random_number)\n",
    "print(\"sqrt_result_reuse:\", sqrt_result_reuse)"
   ]
  },
  {
   "cell_type": "markdown",
   "id": "096c64c2",
   "metadata": {},
   "source": [
    "## Classes and Objects\n"
   ]
  },
  {
   "cell_type": "code",
   "execution_count": 18,
   "id": "82b596e2",
   "metadata": {},
   "outputs": [
    {
     "name": "stdout",
     "output_type": "stream",
     "text": [
      "my_dog name: Buddy\n",
      "my_dog age: 3\n",
      "bark_result: Woof!\n"
     ]
    }
   ],
   "source": [
    "class Dog:\n",
    "    def __init__(self, name, age):\n",
    "        self.name = name\n",
    "        self.age = age\n",
    "\n",
    "    def bark(self):\n",
    "        return \"Woof!\"\n",
    "\n",
    "# Create an instance of the Dog class\n",
    "my_dog = Dog(\"Buddy\", 3)\n",
    "\n",
    "# Print the attributes of the instance\n",
    "print(\"my_dog name:\", my_dog.name)\n",
    "print(\"my_dog age:\", my_dog.age)\n",
    "\n",
    "# Call the bark method of the instance\n",
    "bark_result = my_dog.bark()\n",
    "print(\"bark_result:\", bark_result)"
   ]
  },
  {
   "cell_type": "markdown",
   "id": "3c4c0991",
   "metadata": {},
   "source": [
    "## Input/Output and File Handling\n",
    "\n",
    "**Input/Output**\n",
    "\n",
    "```python\n",
    "# Get user input and display it\n",
    "user_input = input(\"Enter a number: \")\n",
    "print(\"You entered:\", user_input)\n",
    "```\n"
   ]
  },
  {
   "cell_type": "markdown",
   "id": "4a578525",
   "metadata": {},
   "source": [
    "**File Handling**\n",
    "\n",
    "```python\n",
    "# Read content from a file\n",
    "with open(\"file.txt\", \"r\") as file:\n",
    "    content = file.read()\n",
    "\n",
    "# Write content to a new file\n",
    "with open(\"new_file.txt\", \"w\") as new_file:\n",
    "    new_file.write(\"Hello, world!\")\n",
    "```"
   ]
  }
 ],
 "metadata": {
  "kernelspec": {
   "display_name": "Python 3 (ipykernel)",
   "language": "python",
   "name": "python3"
  },
  "language_info": {
   "codemirror_mode": {
    "name": "ipython",
    "version": 3
   },
   "file_extension": ".py",
   "mimetype": "text/x-python",
   "name": "python",
   "nbconvert_exporter": "python",
   "pygments_lexer": "ipython3",
   "version": "3.8.10"
  }
 },
 "nbformat": 4,
 "nbformat_minor": 5
}
