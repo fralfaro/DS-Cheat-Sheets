{
 "cells": [
  {
   "cell_type": "code",
   "execution_count": 1,
   "metadata": {},
   "outputs": [
    {
     "name": "stdout",
     "output_type": "stream",
     "text": [
      "Convertido: docs/examples\\dplyr\\dplyr.ipynb\n",
      "Convertido: docs/examples\\forcats\\forcats.ipynb\n",
      "Convertido: docs/examples\\ggplot2\\ggplot2.ipynb\n",
      "Convertido: docs/examples\\matplotlib\\matplotlib.ipynb\n",
      "Convertido: docs/examples\\numpy\\numpy.ipynb\n",
      "Convertido: docs/examples\\pandas\\pandas.ipynb\n",
      "Convertido: docs/examples\\polars\\polars.ipynb\n",
      "Convertido: docs/examples\\python\\python.ipynb\n",
      "Convertido: docs/examples\\scikit-learn\\sklearn.ipynb\n"
     ]
    }
   ],
   "source": [
    "import os\n",
    "import glob\n",
    "import subprocess\n",
    "\n",
    "base_path = \"docs/examples\"\n",
    "notebook_files = glob.glob(f\"{base_path}/*/*.ipynb\")\n",
    "\n",
    "for notebook in notebook_files:\n",
    "    md_file = notebook.replace(\".ipynb\", \".md\")\n",
    "    command = [\"jupyter\", \"nbconvert\", \"--to\", \"markdown\", notebook]\n",
    "    try:\n",
    "        subprocess.run(command, check=True, capture_output=True, text=True)\n",
    "        print(f\"Convertido: {notebook}\")\n",
    "    except subprocess.CalledProcessError as e:\n",
    "        print(f\"Error al convertir {notebook}: {e.stderr}\")\n"
   ]
  }
 ],
 "metadata": {
  "kernelspec": {
   "display_name": "docs-PxIqdmp3-py3.10",
   "language": "python",
   "name": "python3"
  },
  "language_info": {
   "codemirror_mode": {
    "name": "ipython",
    "version": 3
   },
   "file_extension": ".py",
   "mimetype": "text/x-python",
   "name": "python",
   "nbconvert_exporter": "python",
   "pygments_lexer": "ipython3",
   "version": "3.10.11"
  }
 },
 "nbformat": 4,
 "nbformat_minor": 2
}
