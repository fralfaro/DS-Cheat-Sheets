{
 "cells": [
  {
   "cell_type": "markdown",
   "metadata": {
    "id": "YuptQWIi4uk1"
   },
   "source": [
    "<div style=\"display: flex; align-items: center;\">\n",
    "    <a href=\"https://colab.research.google.com/github/fralfaro/DS-Cheat-Sheets/blob/main/docs/examples/forcats/forcats.ipynb\" target=\"_parent\">\n",
    "        <img src=\"https://colab.research.google.com/assets/colab-badge.svg\" alt=\"Open In Colab\"/>\n",
    "    </a>\n",
    "</div>"
   ]
  },
  {
   "cell_type": "markdown",
   "metadata": {
    "id": "YuptQWIi4uk1"
   },
   "source": [
    "# Forcats\n",
    "\n",
    "<img src=\"https://rstudio.github.io/cheatsheets/html/images/logo-forcats.png\" alt=\"numpy logo\" width = \"200\">\n",
    "\n",
    "\n",
    "The [forcats](https://forcats.tidyverse.org/) package provides tools for working with factors, which are R’s data structure for categorical data."
   ]
  },
  {
   "cell_type": "code",
   "execution_count": null,
   "metadata": {
    "id": "YuptQWIi4uk1",
    "vscode": {
     "languageId": "r"
    }
   },
   "outputs": [],
   "source": [
    "library(forcats)"
   ]
  },
  {
   "cell_type": "markdown",
   "metadata": {
    "id": "YuptQWIi4uk1"
   },
   "source": [
    "Factors\n",
    "-------------------\n",
    "\n",
    "R represents categorical data with factors. A **factor** is an integer vector with a **levels** attribute that stores a set of mappings between integers and categorical values. When you view a factor, R displays not the integers but the levels associated with them.\n",
    "\n",
    "For example, R will display `c(\"a\", \"c\", \"b\", \"a\")` with levels `c(\"a\", \"b\", \"c\")` but will store `c(1, 3, 2, 1)` where 1 = a, 2 = b, and 3 = c.\n",
    "\n",
    "R will display:\n",
    "\n",
    "```R\n",
    "[1] a c b a\n",
    "Levels: a b c\n",
    "```\n",
    "\n",
    "\n",
    "R will store:\n",
    "```R\n",
    "[1] 1 3 2 1\n",
    "attr(,\"levels\")\n",
    "[1] \"a\" \"b\" \"c\"\n",
    "```\n",
    "\n",
    "\n",
    "Create a factor with `factor()`:\n",
    "\n",
    "*   `factor(x = character(), levels, labels = levels, exclude = NA, ordered = is.ordered(x), nmax = NA)`: Convert a vector to a factor. Also `as_factor()`.\n",
    "    "
   ]
  },
  {
   "cell_type": "code",
   "execution_count": null,
   "metadata": {
    "id": "YuptQWIi4uk1",
    "vscode": {
     "languageId": "r"
    }
   },
   "outputs": [],
   "source": [
    "f <- factor(c(\"a\", \"c\", \"b\", \"a\"), levels = c(\"a\", \"b\", \"c\"))"
   ]
  },
  {
   "cell_type": "markdown",
   "metadata": {
    "id": "YuptQWIi4uk1"
   },
   "source": [
    "Return its levels with `levels()`:\n",
    "\n",
    "*   `levels(x)`: Return/set the levels of a factor. "
   ]
  },
  {
   "cell_type": "code",
   "execution_count": null,
   "metadata": {
    "id": "YuptQWIi4uk1",
    "vscode": {
     "languageId": "r"
    }
   },
   "outputs": [],
   "source": [
    "levels(f)\n",
    "levels(f) <- c(\"x\", \"y\", \"z\")"
   ]
  },
  {
   "cell_type": "markdown",
   "metadata": {
    "id": "YuptQWIi4uk1"
   },
   "source": [
    "Use `unclass()` to see its structure.\n",
    "\n",
    "Inspect Factors\n",
    "-----------------------------------\n",
    "\n",
    "*   `fct_count(f, sort = FALSE, prop = FALSE)`: Count the number of values with each level."
   ]
  },
  {
   "cell_type": "code",
   "execution_count": null,
   "metadata": {
    "id": "YuptQWIi4uk1",
    "vscode": {
     "languageId": "r"
    }
   },
   "outputs": [],
   "source": [
    "fct_count(f)"
   ]
  },
  {
   "cell_type": "markdown",
   "metadata": {
    "id": "YuptQWIi4uk1"
   },
   "source": [
    "*   `fct_match(f, lvls)`: Check for `lvls` in `f`."
   ]
  },
  {
   "cell_type": "code",
   "execution_count": null,
   "metadata": {
    "id": "YuptQWIi4uk1",
    "vscode": {
     "languageId": "r"
    }
   },
   "outputs": [],
   "source": [
    "fct_match(f, \"a\")"
   ]
  },
  {
   "cell_type": "markdown",
   "metadata": {
    "id": "YuptQWIi4uk1"
   },
   "source": [
    "*   `fct_unique(f)`: Return the unique values, removing duplicates."
   ]
  },
  {
   "cell_type": "code",
   "execution_count": null,
   "metadata": {
    "id": "YuptQWIi4uk1",
    "vscode": {
     "languageId": "r"
    }
   },
   "outputs": [],
   "source": [
    "fct_unique(f) "
   ]
  },
  {
   "cell_type": "markdown",
   "metadata": {
    "id": "YuptQWIi4uk1"
   },
   "source": [
    "Combine Factors\n",
    "-----------------------------------\n",
    "\n",
    "*   `fct_c(...)`: Combine factors with different levels. Also `fct_cross()`.\n",
    "    "
   ]
  },
  {
   "cell_type": "code",
   "execution_count": null,
   "metadata": {
    "id": "YuptQWIi4uk1",
    "vscode": {
     "languageId": "r"
    }
   },
   "outputs": [],
   "source": [
    "f1 <- factor(c(\"a\", \"c\"))\n",
    "f2 <- factor(c(\"b\", \"a\"))\n",
    "fct_c(f1, f2)"
   ]
  },
  {
   "cell_type": "markdown",
   "metadata": {
    "id": "YuptQWIi4uk1"
   },
   "source": [
    "*   `fct_unify(fs, levels = lvls_union(fs))`: Standardize levels across a list of factors.\n",
    "    "
   ]
  },
  {
   "cell_type": "code",
   "execution_count": null,
   "metadata": {
    "id": "YuptQWIi4uk1",
    "vscode": {
     "languageId": "r"
    }
   },
   "outputs": [],
   "source": [
    "fct_unify(list(f2, f1))"
   ]
  },
  {
   "cell_type": "markdown",
   "metadata": {
    "id": "YuptQWIi4uk1"
   },
   "source": [
    "Change the order of levels\n",
    "---------------------------------------------------------\n",
    "\n",
    "*   `fct_relevel(.f, ..., after = 0L)`: Manually reorder factor levels."
   ]
  },
  {
   "cell_type": "code",
   "execution_count": null,
   "metadata": {
    "id": "YuptQWIi4uk1",
    "vscode": {
     "languageId": "r"
    }
   },
   "outputs": [],
   "source": [
    "fct_relevel(f, c(\"b\", \"c\", \"a\"))"
   ]
  },
  {
   "cell_type": "markdown",
   "metadata": {
    "id": "YuptQWIi4uk1"
   },
   "source": [
    "*   `fct_infreq(f, ordered = NA)`: Reorder levels by the frequency in which they appear in the data (highest frequency first). Also `fct_inseq()`.\n",
    "    "
   ]
  },
  {
   "cell_type": "code",
   "execution_count": null,
   "metadata": {
    "id": "YuptQWIi4uk1",
    "vscode": {
     "languageId": "r"
    }
   },
   "outputs": [],
   "source": [
    "f3 <- factor(c(\"c\", \"c\", \"a\"))\n",
    "fct_infreq(f3)"
   ]
  },
  {
   "cell_type": "markdown",
   "metadata": {
    "id": "YuptQWIi4uk1"
   },
   "source": [
    "*   `fct_inorder(f, ordered = NA)`: Reorder levels by order in which they appear in the data.\n",
    "    "
   ]
  },
  {
   "cell_type": "code",
   "execution_count": null,
   "metadata": {
    "id": "YuptQWIi4uk1",
    "vscode": {
     "languageId": "r"
    }
   },
   "outputs": [],
   "source": [
    "fct_inorder(f2)"
   ]
  },
  {
   "cell_type": "markdown",
   "metadata": {
    "id": "YuptQWIi4uk1"
   },
   "source": [
    "*   `fct_rev(f)`: Reverse level order.\n",
    "    "
   ]
  },
  {
   "cell_type": "code",
   "execution_count": null,
   "metadata": {
    "id": "YuptQWIi4uk1",
    "vscode": {
     "languageId": "r"
    }
   },
   "outputs": [],
   "source": [
    "f4 <- factor(c(\"a\",\"b\",\"c\"))\n",
    "fct_rev(f4)"
   ]
  },
  {
   "cell_type": "markdown",
   "metadata": {
    "id": "YuptQWIi4uk1"
   },
   "source": [
    "*   `fct_shift(f)`: Shift levels to left or right, wrapping around end.\n",
    "    "
   ]
  },
  {
   "cell_type": "code",
   "execution_count": null,
   "metadata": {
    "id": "YuptQWIi4uk1",
    "vscode": {
     "languageId": "r"
    }
   },
   "outputs": [],
   "source": [
    "fct_shift(f4)"
   ]
  },
  {
   "cell_type": "markdown",
   "metadata": {
    "id": "YuptQWIi4uk1"
   },
   "source": [
    "*   `fct_shuffle(f, n = 1L)`: Randomly permute order of factor levels.\n",
    "    "
   ]
  },
  {
   "cell_type": "code",
   "execution_count": null,
   "metadata": {
    "id": "YuptQWIi4uk1",
    "vscode": {
     "languageId": "r"
    }
   },
   "outputs": [],
   "source": [
    "fct_shuffle(f4)    "
   ]
  },
  {
   "cell_type": "markdown",
   "metadata": {
    "id": "YuptQWIi4uk1"
   },
   "source": [
    "*   `fct_reorder(.f, .x, .fun = median, ..., .desc = FALSE)`: Reorder levels by their relationship with another variable.\n",
    "    "
   ]
  },
  {
   "cell_type": "code",
   "execution_count": null,
   "metadata": {
    "id": "YuptQWIi4uk1",
    "vscode": {
     "languageId": "r"
    }
   },
   "outputs": [],
   "source": [
    "boxplot(PlantGrowth, weight ~ fct_reorder(group, weight))"
   ]
  },
  {
   "cell_type": "markdown",
   "metadata": {
    "id": "YuptQWIi4uk1"
   },
   "source": [
    "*   `fct_reorder2(.f, .x, .y, .fun = last2, ..., .desc = TRUE)`: Reorder levels by their final values when plotted with two other variables.\n",
    "    "
   ]
  },
  {
   "cell_type": "code",
   "execution_count": null,
   "metadata": {
    "id": "YuptQWIi4uk1",
    "vscode": {
     "languageId": "r"
    }
   },
   "outputs": [],
   "source": [
    "ggplot(\n",
    "  diamonds,\n",
    "  aes(carat, price, color = fct_reorder2(color, carat, price))\n",
    "  ) + \n",
    "  geom_smooth()"
   ]
  },
  {
   "cell_type": "markdown",
   "metadata": {
    "id": "YuptQWIi4uk1"
   },
   "source": [
    "Change the value of levels\n",
    "---------------------------------------------------------\n",
    "\n",
    "*   `fct_recode(.f, ...)`: Manually change levels. Also `fct_relabel()` which obeys `purrr::map` syntax to apply a function or expression to each level.\n",
    "    "
   ]
  },
  {
   "cell_type": "code",
   "execution_count": null,
   "metadata": {
    "id": "YuptQWIi4uk1",
    "vscode": {
     "languageId": "r"
    }
   },
   "outputs": [],
   "source": [
    "fct_recode(f, v = \"a\", x = \"b\", z = \"c\")\n",
    "fct_relabel(f, ~ paste0(\"x\", .x))"
   ]
  },
  {
   "cell_type": "markdown",
   "metadata": {
    "id": "YuptQWIi4uk1"
   },
   "source": [
    "*   `fct_anon(f, prefix = \"\")`: Anonymize levels with random integers.\n",
    "    "
   ]
  },
  {
   "cell_type": "code",
   "execution_count": null,
   "metadata": {
    "id": "YuptQWIi4uk1",
    "vscode": {
     "languageId": "r"
    }
   },
   "outputs": [],
   "source": [
    "fct_anon(f)"
   ]
  },
  {
   "cell_type": "markdown",
   "metadata": {
    "id": "YuptQWIi4uk1"
   },
   "source": [
    "*   `fct_collapse(.f, …, other_level = NULL)`: Collapse levels into manually defined groups.\n",
    "    "
   ]
  },
  {
   "cell_type": "code",
   "execution_count": null,
   "metadata": {
    "id": "YuptQWIi4uk1",
    "vscode": {
     "languageId": "r"
    }
   },
   "outputs": [],
   "source": [
    "fct_collapse(f, x = c(\"a\", \"b\"))"
   ]
  },
  {
   "cell_type": "markdown",
   "metadata": {
    "id": "YuptQWIi4uk1"
   },
   "source": [
    "*   `fct_lump_min(f, min, w = NULL, other_level = \"Other\")`: Lumps together factors that appear fewer than `min` times. Also `fct_lump_n()`, `fct_lump_prop()`, and `fct_lump_lowfreq()`.\n",
    "    "
   ]
  },
  {
   "cell_type": "code",
   "execution_count": null,
   "metadata": {
    "id": "YuptQWIi4uk1",
    "vscode": {
     "languageId": "r"
    }
   },
   "outputs": [],
   "source": [
    "fct_lump_min(f, min = 2)    "
   ]
  },
  {
   "cell_type": "markdown",
   "metadata": {
    "id": "YuptQWIi4uk1"
   },
   "source": [
    "*   `fct_other(f, keep, drop, other_level = \"Other\")`: Replace levels with “other.”\n",
    "    "
   ]
  },
  {
   "cell_type": "code",
   "execution_count": null,
   "metadata": {
    "id": "YuptQWIi4uk1",
    "vscode": {
     "languageId": "r"
    }
   },
   "outputs": [],
   "source": [
    "fct_other(f, keep = c(\"a\", \"b\"))    "
   ]
  },
  {
   "cell_type": "markdown",
   "metadata": {
    "id": "YuptQWIi4uk1"
   },
   "source": [
    "Add or drop levels\n",
    "-----------------------------------------\n",
    "\n",
    "*   `fct_drop(f, only)`: Drop unused levels.\n",
    "    "
   ]
  },
  {
   "cell_type": "code",
   "execution_count": null,
   "metadata": {
    "id": "YuptQWIi4uk1",
    "vscode": {
     "languageId": "r"
    }
   },
   "outputs": [],
   "source": [
    "f5 <- factor(c(\"a\",\"b\"),c(\"a\",\"b\",\"x\"))\n",
    "f6 <- fct_drop(f5)"
   ]
  },
  {
   "cell_type": "markdown",
   "metadata": {
    "id": "YuptQWIi4uk1"
   },
   "source": [
    "*   `fct_expand(f, ...)`: Add levels to a factor.\n",
    "    "
   ]
  },
  {
   "cell_type": "code",
   "execution_count": null,
   "metadata": {
    "id": "YuptQWIi4uk1",
    "vscode": {
     "languageId": "r"
    }
   },
   "outputs": [],
   "source": [
    "fct_expand(f6, \"x\")"
   ]
  },
  {
   "cell_type": "markdown",
   "metadata": {
    "id": "YuptQWIi4uk1"
   },
   "source": [
    "*   `fct_na_value_to_level(f, level = \"(Missing)\")`: Assigns a level to NAs to ensure they appear in plots, etc.\n",
    "    "
   ]
  },
  {
   "cell_type": "code",
   "execution_count": null,
   "metadata": {
    "id": "YuptQWIi4uk1",
    "vscode": {
     "languageId": "r"
    }
   },
   "outputs": [],
   "source": [
    "f <- factor(c(\"a\", \"b\", NA))\n",
    "fct_na_value_to_level(f, level = \"(Missing)\")"
   ]
  }
 ],
 "metadata": {
  "colab": {
   "provenance": []
  },
  "kernelspec": {
   "display_name": "R",
   "name": "ir"
  },
  "language_info": {
   "name": "R"
  }
 },
 "nbformat": 4,
 "nbformat_minor": 1
}
